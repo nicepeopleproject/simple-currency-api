{
 "cells": [
  {
   "cell_type": "code",
   "execution_count": 2,
   "id": "109aa0b3-f92a-41c4-b3ec-cd14303a1fa9",
   "metadata": {
    "tags": []
   },
   "outputs": [],
   "source": [
    "import requests\n",
    "import xml.etree.ElementTree as ET\n"
   ]
  },
  {
   "cell_type": "code",
   "execution_count": 7,
   "id": "318da4a0-e671-4845-8e37-3ae948ed521d",
   "metadata": {
    "tags": []
   },
   "outputs": [],
   "source": [
    "def get_currency_value(currency):\n",
    "    url = \"https://www.cbr-xml-daily.ru/daily_json.js\"\n",
    "    response = requests.get(url, verify=False)\n",
    "    data = response.json()\n",
    "    value = data[\"Valute\"][currency][\"Value\"]\n",
    "    return value\n"
   ]
  },
  {
   "cell_type": "code",
   "execution_count": 9,
   "id": "77a9393d-d684-447f-b015-22261190a6b8",
   "metadata": {
    "tags": []
   },
   "outputs": [
    {
     "name": "stderr",
     "output_type": "stream",
     "text": [
      "C:\\Users\\DSHestakov\\AppData\\Local\\anaconda3\\Lib\\site-packages\\urllib3\\connectionpool.py:1056: InsecureRequestWarning: Unverified HTTPS request is being made to host 'www.cbr-xml-daily.ru'. Adding certificate verification is strongly advised. See: https://urllib3.readthedocs.io/en/1.26.x/advanced-usage.html#ssl-warnings\n",
      "  warnings.warn(\n"
     ]
    }
   ],
   "source": [
    "currency_value = get_currency_value(\"USD\")"
   ]
  },
  {
   "cell_type": "code",
   "execution_count": 10,
   "id": "57ea97b3-9763-410b-9d27-d9d19342bd8b",
   "metadata": {
    "tags": []
   },
   "outputs": [
    {
     "name": "stdout",
     "output_type": "stream",
     "text": [
      "92.5492\n"
     ]
    }
   ],
   "source": [
    "print(currency_value)"
   ]
  },
  {
   "cell_type": "code",
   "execution_count": null,
   "id": "e4dd91d7-67ed-468b-820d-2380667aaca0",
   "metadata": {},
   "outputs": [],
   "source": []
  }
 ],
 "metadata": {
  "kernelspec": {
   "display_name": "Python 3 (ipykernel)",
   "language": "python",
   "name": "python3"
  },
  "language_info": {
   "codemirror_mode": {
    "name": "ipython",
    "version": 3
   },
   "file_extension": ".py",
   "mimetype": "text/x-python",
   "name": "python",
   "nbconvert_exporter": "python",
   "pygments_lexer": "ipython3",
   "version": "3.11.5"
  }
 },
 "nbformat": 4,
 "nbformat_minor": 5
}
